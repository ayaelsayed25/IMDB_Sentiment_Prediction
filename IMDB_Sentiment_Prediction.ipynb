{
  "nbformat": 4,
  "nbformat_minor": 0,
  "metadata": {
    "colab": {
      "name": "IMDB Sentiment Prediction.ipynb",
      "provenance": [],
      "collapsed_sections": [],
      "include_colab_link": true
    },
    "kernelspec": {
      "name": "python3",
      "display_name": "Python 3"
    },
    "language_info": {
      "name": "python"
    }
  },
  "cells": [
    {
      "cell_type": "markdown",
      "metadata": {
        "id": "view-in-github",
        "colab_type": "text"
      },
      "source": [
        "<a href=\"https://colab.research.google.com/github/radwaahmed20112000/IMDB_Sentiment_Prediction/blob/main/IMDB_Sentiment_Prediction.ipynb\" target=\"_parent\"><img src=\"https://colab.research.google.com/assets/colab-badge.svg\" alt=\"Open In Colab\"/></a>"
      ]
    },
    {
      "cell_type": "markdown",
      "source": [
        "## **Read Dataframe**"
      ],
      "metadata": {
        "id": "g3t04aHEW81V"
      }
    },
    {
      "cell_type": "code",
      "execution_count": null,
      "metadata": {
        "id": "QuDvYrKTERHz"
      },
      "outputs": [],
      "source": [
        "import zipfile\n",
        "import io\n",
        "zf = zipfile.ZipFile('archive.zip')\n",
        "zf.extractall()\n",
        "import pandas as pd\n",
        "from collections import Counter\n",
        "df = pd.read_csv('IMDB Dataset.csv')"
      ]
    },
    {
      "cell_type": "code",
      "execution_count": null,
      "metadata": {
        "id": "Ep3bbfD8oUyg",
        "colab": {
          "base_uri": "https://localhost:8080/"
        },
        "outputId": "d1b89683-57ab-4765-c733-3e4a7ba193f4"
      },
      "outputs": [
        {
          "output_type": "stream",
          "name": "stdout",
          "text": [
            "[nltk_data] Downloading package stopwords to /root/nltk_data...\n",
            "[nltk_data]   Package stopwords is already up-to-date!\n",
            "[nltk_data] Downloading package wordnet to /root/nltk_data...\n",
            "[nltk_data]   Package wordnet is already up-to-date!\n"
          ]
        }
      ],
      "source": [
        "import nltk\n",
        "import numpy as np\n",
        "nltk.download('stopwords')\n",
        "nltk.download('wordnet')\n",
        "from textblob import Word\n",
        "from nltk.corpus import stopwords\n",
        "from nltk.stem.porter import PorterStemmer\n",
        "stop = stopwords.words('english')\n",
        "porter =  PorterStemmer()"
      ]
    },
    {
      "cell_type": "markdown",
      "source": [
        "## **Data Preprocessing**"
      ],
      "metadata": {
        "id": "tjvW2_m5XHns"
      }
    },
    {
      "cell_type": "code",
      "execution_count": null,
      "metadata": {
        "id": "6Rg-9muHde0e"
      },
      "outputs": [],
      "source": [
        "def preprocessing():\n",
        "  global df\n",
        "  #remove punctuation\n",
        "  df['review'] = df['review'].str.replace('[^\\w\\s]','')\n",
        "  #remove stop words + Lemmetization of words\n",
        "  df['review'] = df['review'].apply(lambda x: ' '.join([porter.stem(word) for word in x.split() if word not in (stop)]))\n",
        "  #lowercase\n",
        "  df['review'] = df['review'].str.lower()"
      ]
    },
    {
      "cell_type": "markdown",
      "source": [
        "## **Data Split**"
      ],
      "metadata": {
        "id": "gcoSatTtXM2Z"
      }
    },
    {
      "cell_type": "code",
      "execution_count": null,
      "metadata": {
        "id": "xNzh3ceVDiWs",
        "colab": {
          "base_uri": "https://localhost:8080/"
        },
        "outputId": "d02858b7-ad67-4101-c3c9-2792156b1fa6"
      },
      "outputs": [
        {
          "output_type": "stream",
          "name": "stderr",
          "text": [
            "/usr/local/lib/python3.7/dist-packages/ipykernel_launcher.py:4: FutureWarning: The default value of regex will change from True to False in a future version.\n",
            "  after removing the cwd from sys.path.\n"
          ]
        },
        {
          "output_type": "stream",
          "name": "stdout",
          "text": [
            "35000 10000 5000\n",
            "17500 5000 2500\n",
            "17500 5000 2500\n"
          ]
        }
      ],
      "source": [
        "preprocessing()\n",
        "np.random.seed(112)\n",
        "df1 = df[df['sentiment'] == 'positive']\n",
        "\n",
        "df2 = df[df['sentiment'] == 'negative']\n",
        "\n",
        "df1_train, df1_val, df1_test = np.split(df1.sample(frac=1, random_state=42), \n",
        "                                     [int(.7*len(df1)), int(.9*len(df1))])\n",
        "\n",
        "df2_train, df2_val, df2_test = np.split(df2.sample(frac=1, random_state=42), \n",
        "                                     [int(.7*len(df2)), int(.9*len(df2))])\n",
        "\n",
        "frames = [df1_train, df2_train]\n",
        "df_train = pd.concat(frames)\n",
        "df_train = df_train.sample(frac = 1)\n",
        "\n",
        "frames = [df1_val, df2_val]\n",
        "df_val = pd.concat(frames)\n",
        "df_val = df_val.sample(frac = 1)\n",
        "\n",
        "frames = [df1_test, df2_test]\n",
        "df_test = pd.concat(frames)\n",
        "df_test = df_test.sample(frac = 1)\n",
        "print(len(df_train),len(df_val), len(df_test))\n",
        "print(len(df1_train),len(df1_val), len(df1_test))\n",
        "print(len(df2_train),len(df2_val), len(df2_test))"
      ]
    },
    {
      "cell_type": "markdown",
      "source": [
        "## **Dataframe Conversion**"
      ],
      "metadata": {
        "id": "3Zh7-zLcXSuj"
      }
    },
    {
      "cell_type": "code",
      "execution_count": null,
      "metadata": {
        "id": "MX8P8RunDbiJ"
      },
      "outputs": [],
      "source": [
        "!pip install transformers\n",
        "import torch\n",
        "from transformers import BertTokenizer\n",
        "\n",
        "tokenizer = BertTokenizer.from_pretrained('bert-base-cased')\n",
        "labels = {'positive':0,\n",
        "          'negative':1\n",
        "          }\n",
        "\n",
        "class Dataset(torch.utils.data.Dataset):\n",
        "\n",
        "    def __init__(self, df):\n",
        "\n",
        "        self.labels = [labels[label] for label in df['sentiment']]\n",
        "        self.texts = [tokenizer(text, \n",
        "                               padding='max_length', max_length = 512, truncation=True,\n",
        "                                return_tensors=\"pt\") for text in df['review']]\n",
        "\n",
        "    def classes(self):\n",
        "        return self.labels\n",
        "\n",
        "    def __len__(self):\n",
        "        return len(self.labels)\n",
        "\n",
        "    def get_batch_labels(self, idx):\n",
        "        # Fetch a batch of labels\n",
        "        return np.array(self.labels[idx])\n",
        "\n",
        "    def get_batch_texts(self, idx):\n",
        "        # Fetch a batch of inputs\n",
        "        return self.texts[idx]\n",
        "\n",
        "    def __getitem__(self, idx):\n",
        "\n",
        "        batch_texts = self.get_batch_texts(idx)\n",
        "        batch_y = self.get_batch_labels(idx)\n",
        "\n",
        "        return batch_texts, batch_y"
      ]
    },
    {
      "cell_type": "code",
      "execution_count": null,
      "metadata": {
        "id": "1J0A2HRkIpgs"
      },
      "outputs": [],
      "source": [
        "!pip install optuna\n",
        "import optuna\n",
        "study = optuna.create_study(direction=\"maximize\", sampler=optuna.samplers.TPESampler())\n",
        "#maximize direction tends to increase the accuracy, F1 score, etc.\n",
        "#TPESampler : Bayesian hyperparameter optimization method\n",
        "model = None"
      ]
    },
    {
      "cell_type": "markdown",
      "source": [
        "## **Model Build**"
      ],
      "metadata": {
        "id": "k_ydKebOXepG"
      }
    },
    {
      "cell_type": "code",
      "source": [
        "from torch import nn\n",
        "from transformers import BertModel\n",
        "class BertClassifier(nn.Module):\n",
        "\n",
        "    def __init__(self, dropout=0.5):\n",
        "        super(BertClassifier, self).__init__()\n",
        "\n",
        "        self.bert = BertModel.from_pretrained('bert-base-cased')\n",
        "        self.dropout = nn.Dropout(dropout)\n",
        "        \n",
        "        self.layer_1  = nn. Linear(768, 512)\n",
        "        self.layer_2  = nn. Linear (512, 256)\n",
        "        self.layer_3  = nn. Linear(256, 128)\n",
        "        self.layer_4  = nn. Linear(128, 64)\n",
        "        self.layer_out= nn. Linear (64, 2)\n",
        "        self.sigmoid = nn.Sigmoid()\n",
        "        #self.linear = nn.Linear(768, 2)\n",
        "        self.relu = nn.ReLU()\n",
        "\n",
        "    def forward(self, input_id, mask):\n",
        "        _, pooled_output = self.bert(input_ids=input_id, attention_mask=mask, return_dict=False)\n",
        "        dropout_output = self.dropout(pooled_output)\n",
        "        input = self.relu(self.layer_1(dropout_output))\n",
        "        input = self.dropout(input)\n",
        "        input = self.relu(self.layer_2(input))\n",
        "        input = self.dropout(input)\n",
        "        input = self.relu(self.layer_3(input))\n",
        "        input = self.dropout(input)\n",
        "        input = self.relu(self.layer_4(input))\n",
        "        output= self.sigmoid(self.layer_out(input))\n",
        "        return output\n",
        "        \n",
        "        #linear_output = self.linear(dropout_output)\n",
        "        #final_layer = self.relu(linear_output)\n",
        "\n",
        "        #return final_layer\n",
        "        "
      ],
      "metadata": {
        "id": "N_yx_se3WBmI"
      },
      "execution_count": null,
      "outputs": []
    },
    {
      "cell_type": "markdown",
      "source": [
        "# **Model Train**"
      ],
      "metadata": {
        "id": "uPl3V8NGXi0i"
      }
    },
    {
      "cell_type": "code",
      "execution_count": null,
      "metadata": {
        "id": "_OeVT1p2DpQM"
      },
      "outputs": [],
      "source": [
        "from torch.optim import Adam\n",
        "from tqdm import tqdm\n",
        "import matplotlib.pyplot as plt \n",
        "\n",
        "def train(model, train_data, val_data, params):\n",
        "    epoch_plot=[1,2]\n",
        "    acc_train_plot=[]\n",
        "    acc_val_plot=[]\n",
        "    train, val = Dataset(train_data), Dataset(val_data)\n",
        "    train_dataloader = torch.utils.data.DataLoader(train, batch_size=5, shuffle=True)\n",
        "    val_dataloader = torch.utils.data.DataLoader(val, batch_size=5)\n",
        "    use_cuda = torch.cuda.is_available()\n",
        "    device = torch.device(\"cuda\" if use_cuda else \"cpu\")\n",
        "    criterion = nn.CrossEntropyLoss()\n",
        "    optimizer = Adam(model.parameters(), lr= params['learning_rate'])\n",
        "    print(\"Learning rate = \" + str(params['learning_rate']))\n",
        "    accuracy = 0\n",
        "    if use_cuda:\n",
        "            model = model.cuda()\n",
        "            criterion = criterion.cuda()\n",
        "    for epoch_num in range(params['epochs_num']):\n",
        "            print(\"Epoch\" + str(epoch_num))\n",
        "            total_loss_train = 0\n",
        "            total_acc_train = 0\n",
        "            for train_input, train_label in tqdm(train_dataloader):\n",
        "\n",
        "                train_label = train_label.to(device)\n",
        "                mask = train_input['attention_mask'].to(device)\n",
        "                input_id = train_input['input_ids'].squeeze(1).to(device)\n",
        "\n",
        "                output = model(input_id, mask)\n",
        "\n",
        "                batch_loss = criterion(output, train_label)\n",
        "                total_loss_train += batch_loss.item()\n",
        "\n",
        "                # output = torch.round(output)\n",
        "                acc = (output.argmax(dim=1) == train_label).sum().item()\n",
        "                total_acc_train += acc\n",
        "\n",
        "                model.zero_grad()\n",
        "                batch_loss.backward()\n",
        "                optimizer.step()\n",
        "            \n",
        "            total_acc_val = 0\n",
        "            total_loss_val = 0\n",
        "\n",
        "            with torch.no_grad():\n",
        "\n",
        "                for val_input, val_label in val_dataloader:\n",
        "\n",
        "                    val_label = val_label.to(device)\n",
        "                    mask = val_input['attention_mask'].to(device)\n",
        "                    input_id = val_input['input_ids'].squeeze(1).to(device)\n",
        "\n",
        "                    output = model(input_id, mask)\n",
        "\n",
        "                    batch_loss = criterion(output, val_label)\n",
        "                    total_loss_val += batch_loss.item()\n",
        "                    \n",
        "                    # output = torch.round(output)\n",
        "                    acc = (output.argmax(dim=1) == val_label).sum().item()\n",
        "                    total_acc_val += acc\n",
        "            \n",
        "            print(\n",
        "                f'Epochs: {epoch_num + 1} | Train Loss: {total_loss_train / len(train_data): .3f} \\\n",
        "                | Train Accuracy: {total_acc_train / len(train_data): .3f} \\\n",
        "                | Val Loss: {total_loss_val / len(val_data): .3f} \\\n",
        "                | Val Accuracy: {total_acc_val / len(val_data): .3f}')\n",
        "            acc_train_plot.append(total_acc_train / len(train_data))\n",
        "            acc_val_plot.append(total_acc_val / len(val_data))\n",
        "            accuracy = total_acc_val / len(val_data)\n",
        "    plot1 = plt.figure(1)\n",
        "    plt.scatter(x = epoch_plot ,y = acc_train_plot)\n",
        "\n",
        "    plot2 = plt.figure(2)\n",
        "    plt.scatter(x = epoch_plot ,y = acc_val_plot)\n",
        "\n",
        "    plt.show()\n",
        "    return accuracy       \n",
        "              \n"
      ]
    },
    {
      "cell_type": "code",
      "source": [
        "def objective(trial):\n",
        "    global df_train, df_val\n",
        "    global model\n",
        "    #parameters we want to tune:\n",
        "    params = {\n",
        "              'learning_rate': 1e-5, \n",
        "              'epochs_num' : 2\n",
        "              }\n",
        "    \n",
        "    model = BertClassifier()\n",
        "    print(\"Model is built\")\n",
        "    accuracy = train(model,  df_train, df_val, params)\n",
        "\n",
        "    return accuracy"
      ],
      "metadata": {
        "id": "7mRNx9jZl-h_"
      },
      "execution_count": null,
      "outputs": []
    },
    {
      "cell_type": "code",
      "execution_count": null,
      "metadata": {
        "id": "kJml9YjrTSeh",
        "colab": {
          "base_uri": "https://localhost:8080/"
        },
        "outputId": "b2379cfa-90ea-4342-c688-9897e4a31a59"
      },
      "outputs": [
        {
          "metadata": {
            "tags": null
          },
          "name": "stderr",
          "output_type": "stream",
          "text": [
            "Some weights of the model checkpoint at bert-base-cased were not used when initializing BertModel: ['cls.predictions.transform.dense.weight', 'cls.seq_relationship.bias', 'cls.predictions.bias', 'cls.predictions.transform.LayerNorm.bias', 'cls.predictions.decoder.weight', 'cls.predictions.transform.dense.bias', 'cls.predictions.transform.LayerNorm.weight', 'cls.seq_relationship.weight']\n",
            "- This IS expected if you are initializing BertModel from the checkpoint of a model trained on another task or with another architecture (e.g. initializing a BertForSequenceClassification model from a BertForPreTraining model).\n",
            "- This IS NOT expected if you are initializing BertModel from the checkpoint of a model that you expect to be exactly identical (initializing a BertForSequenceClassification model from a BertForSequenceClassification model).\n"
          ]
        },
        {
          "metadata": {
            "tags": null
          },
          "name": "stdout",
          "output_type": "stream",
          "text": [
            "Model is built\n",
            "Learning rate = 1e-05\n",
            "Epoch0\n"
          ]
        },
        {
          "output_type": "stream",
          "name": "stderr",
          "text": [
            " 53%|█████▎    | 3708/7000 [58:46<52:09,  1.05it/s]"
          ]
        }
      ],
      "source": [
        "study.optimize(objective, n_trials=1)"
      ]
    },
    {
      "cell_type": "markdown",
      "source": [
        "## **Model Evaluation**"
      ],
      "metadata": {
        "id": "tTmqdUmNXtRC"
      }
    },
    {
      "cell_type": "code",
      "source": [
        "MODEL_PATH = 'model.pth'\n",
        "model = torch.load(MODEL_PATH, map_location=torch.device('cuda'))"
      ],
      "metadata": {
        "id": "5VmedNSMua1G"
      },
      "execution_count": null,
      "outputs": []
    },
    {
      "cell_type": "code",
      "source": [
        "def evaluating_model(predicted , y_test):\n",
        "    from sklearn.metrics import accuracy_score, f1_score\n",
        "    accuracy = accuracy_score(predicted , y_test)\n",
        "    f1 = f1_score(predicted , y_test , average='weighted')\n",
        "    print (\"Accuracy: \" ,accuracy)\n",
        "    print(\"F1_score: \",f1)\n",
        "\n",
        "    #calculating precision and reall\n",
        "\n",
        "    from sklearn.metrics import precision_score , recall_score\n",
        "    precision = precision_score(predicted , y_test )\n",
        "    recall = recall_score(predicted , y_test ) \n",
        "    print('Precision: ',precision)\n",
        "    print('Recall: ',recall)\n",
        "    \n",
        "    from sklearn.metrics import confusion_matrix\n",
        "    confusion = confusion_matrix(predicted,y_test)\n",
        "    print(\"Confusion Matrix:\")\n",
        "    print(confusion)"
      ],
      "metadata": {
        "id": "bn-pCGHbSP1D"
      },
      "execution_count": null,
      "outputs": []
    },
    {
      "cell_type": "code",
      "execution_count": null,
      "metadata": {
        "id": "6OJ6a0HrDvWv"
      },
      "outputs": [],
      "source": [
        "def evaluate(model, test_data):\n",
        "\n",
        "    test = Dataset(test_data)\n",
        "\n",
        "    test_dataloader = torch.utils.data.DataLoader(test, batch_size=10)\n",
        "\n",
        "    use_cuda = torch.cuda.is_available()\n",
        "    device = torch.device(\"cuda\" if use_cuda else \"cpu\")\n",
        "\n",
        "    if use_cuda:\n",
        "        model = model.cuda()\n",
        "\n",
        "    total_acc_test = 0\n",
        "    output_list = []\n",
        "    label_list = []\n",
        "    with torch.no_grad():\n",
        "\n",
        "        for test_input, test_label in test_dataloader:\n",
        "\n",
        "              test_label = test_label.to(device)\n",
        "              mask = test_input['attention_mask'].to(device)\n",
        "              input_id = test_input['input_ids'].squeeze(1).to(device)\n",
        "\n",
        "              output = model(input_id, mask)\n",
        "              output = output.argmax(dim=1)\n",
        "              output_as_list = output.tolist()\n",
        "              output_list.extend(output_as_list)\n",
        "              label_as_list = test_label.tolist()\n",
        "              label_list.extend(label_as_list)\n",
        "              acc = (output == test_label).sum().item()\n",
        "              total_acc_test += acc\n",
        "    \n",
        "    print(f'Test Accuracy: {total_acc_test / len(test_data): .3f}')\n",
        "    #computing requirements\n",
        "    evaluating_model(output_list, label_list)\n",
        "    \n",
        "evaluate(model, df_test)"
      ]
    },
    {
      "cell_type": "code",
      "source": [
        "MODEL_PATH = 'model.pth'\n",
        "torch.save(model, MODEL_PATH)"
      ],
      "metadata": {
        "id": "XnbNJcOmg7Ht"
      },
      "execution_count": null,
      "outputs": []
    },
    {
      "cell_type": "code",
      "source": [
        "# MODEL_PATH = 'model.pth'\n",
        "# model = torch.load(MODEL_PATH, map_location=torch.device('cuda'))"
      ],
      "metadata": {
        "id": "jxERFGWPhBLu"
      },
      "execution_count": null,
      "outputs": []
    }
  ]
}